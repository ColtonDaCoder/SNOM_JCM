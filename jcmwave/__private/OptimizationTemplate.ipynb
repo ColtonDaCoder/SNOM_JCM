{% extends "BaseTemplate.ipynb" %}

{% block task %}
,
  {
   "cell_type": "markdown",
   "metadata": {},
   "source": [
    "<h1>Parameter Optimization</h1>\n",
    "\n",
    "This section contains cells for running a parameter optimization of the layout. That is, the parameters of the setup are automatically varied in order to minimize a user defined objective.\n",
    "\n",
    "<h2>Search Domain</h2>\n",
    "<div style=\"{{style.user_input}}\">This cell contains the setup of the optimization study, including the definition of the serach domain. See the reference for the <a href=\"https://docs.jcmwave.com/JCMsuite/html/PythonInterface/25402383e25cfabd3ea18fdc2daef540.html\">Analysis and Optimization Toolkit</a> for more information on the setup of a numerical study. </div>"
   ]
  },
  {
   "cell_type": "code",
   "execution_count": null,
   "metadata": {},
   "outputs": [],
   "source": [
    "# Definition of the search domain\n",
    "domain = [\n",
    {% for param in params if param.type in ['real','complex','integer']-%}
    "   {'name': '{{ param.name }}', 'type': 
    {%- if param.type=='integer' -%}
       'discrete' , 'domain': [_val1_,_val2_,_val3_]}
    {%- elif param.type in ['real','complex'] -%}
       'continuous', 'domain': (_lower_, _upper_)}
    {%- endif -%}
       {{ "," if not loop.last }}\n",
    {%- endfor %}
    "]\n",
    "\n",
    "# Initialization of the optimization study\n",
    "study = jcmwave.optimizer.create_study(\n",
    "                            domain=domain,\n",
    "                            name='Optimization study',\n",
    "                            study_id='optimization1',\n",
    "                            save_dir = os.getcwd(),\n",
    "                            open_browser = False)\n",
    "\n",
    "# Configuration of the optimization study.\n",
    "# For more information on the study parameter, call study.parameter_help()\n",
    "study.set_parameters(max_iter=100, num_parallel=2)"
   ]
  },
  {
   "cell_type": "markdown",
   "metadata": {},
   "source": [
    "<h2>Definition of Objective function</h2>\n",
    "<div style=\"{{style.user_input}}\">The numerical analysis of the setup is based on a user-defined objective function that maps the system parameters to an objective value.</div>"
   ]
  },
  {
   "cell_type": "code",
   "execution_count": null,
   "metadata": {},
   "outputs": [],
   "source": [
    "def objective(**params):\n",
    "    keys = default_keys.copy()\n",
    "    keys.update(params)\n",
    "    job_id = jcmwave.solve('{{project}}',keys=keys,temporary = True)\n",
    "    results, logs = jcmwave.daemon.wait(job_ids = [job_id])\n",
    "    result = results[0]\n",
    "    try:\n",
    "    # Define the objective to be mininized here. This may be the output \n",
    "    # of a post process or a function of several ouput values. E.g.,\n",
    "    # obj = -1e9*result[1]['ElectromagneticFieldEnergyFlux'][0][0].real\n",
    "        obj = _computed_value_\n",
    "    except KeyError:\n",
    "        raise EnvironmentError('Computation failed. Log output: \\n{}'.format(logs[0]))\n",
    "    observation = study.new_observation()\n",
    "    observation.add(obj)\n",
    "    return observation      \n",
    "\n",
    "study.set_objective(objective)"
   ]
  },
  {
   "cell_type": "markdown",
   "metadata": {},
   "source": [
    "<h2> Run of the Optimization Study</h2>",
    "This cell runs the optimization study, i.e. it retrieves new sample parameters, evaluates them, and sends the results to the optimizer."
   ]
  },
  {
   "cell_type": "code",
   "execution_count": null,
   "metadata": {
    "scrolled": true
   },
   "outputs": [],
   "source": [
    "study.run()"
   ]
  },
  {
   "cell_type": "markdown",
   "metadata": {},
   "source": [
    "<h2>Result of the Optimization Study</h2>",
    "This runs the simulation for the best parameters found and shows the corresponding fieldbag."
   ]
  },
  {
   "cell_type": "code",
   "execution_count": null,
   "metadata": {},
   "outputs": [],
   "source": [
    "#best parameters found during the optimizationi\n",
    "min_params = study.info()['min_params']\n",
    "\n",
    "#inspect the fieldbag for the optimal result\n",
    "keys = default_keys.copy()\n",
    "keys.update(min_params)\n",
    "job_id = jcmwave.solve('{{project}}',keys=keys)\n",
    "#we wait for the job to finish to gather the results\n",
    "results, logs = jcmwave.daemon.wait(job_ids = [job_id])  \n",
    "jcmwave.view(results[0][0]['file'])"
   ]
  }

{% endblock %}