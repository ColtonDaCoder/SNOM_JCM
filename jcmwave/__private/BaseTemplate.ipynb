{
 "cells": [
  {
   "cell_type": "markdown",
   "metadata": {},
   "source": [
   {% block header %}
    "<h1>Preparation of Data Analysis</h1>\n",
    "This jupyter notebook was generated using JCMcontrol.\n",
    "Please, evaluate the cells by clicking on them and pressing [Shift][Enter]. Optional cells are <span style=\"{{style.optional}}\">marked in gray</span>. Cells that require user input prior running are <span style=\"{{style.user_input}}\">marked in red</span>. \n",
   {% endblock %}
    "\n",
    "<h2>Import of Packages</h2>\n",
    "This cell imports the required packages of the notebook. More packages can be added here if needed."
   ]
  },
  {
   "cell_type": "code",
   "execution_count": null,
   "metadata": {},
   "outputs": [],
   "source": [
    "import sys,os\n",
    "import numpy as np\n",
    "from pprint import pprint\n",
{% block import %}
{% endblock %}
    "\n",
    "sys.path.append(os.path.join(os.getenv('JCMROOT'), 'ThirdPartySupport', 'Python'))\n",
    "import jcmwave"
   ]
  },
  {
   "cell_type": "markdown",
   "metadata": {},
   "source": [
    "<h2>Configuration of Computational Resources</h2>\n",
    "\n",
    "The cell defines the computational resources that are used to perform the FEM computations. By default, the local machine is used. Fore more information on the configuration, see the <a href=\"https://docs.jcmwave.com/JCMsuite/html/PythonInterface/c9ea6d205f726f9f05552d11a18032c3.html\">Daemon Command Reference</a>."
   ]
  },
  {
   "cell_type": "code",
   "execution_count": null,
   "metadata": {
    "scrolled": false
   },
   "outputs": [],
   "source": [
    "jcmwave.daemon.shutdown()\n",
    "jcmwave.daemon.add_workstation(Hostname ='localhost', \n",
    "                               Multiplicity = 1, \n",
    "                               NThreads = 4);"
   ]
  },
  {
   "cell_type": "markdown",
   "metadata": {},
   "source": [
    "<h2>Definition of Default Parameters</h2>\n",
    "<div style=\"{{style.user_input}}\">This cell defines the default values of all parameters (keys) of the project.</div>"
   ]
  },
  {
   "cell_type": "code",
   "execution_count": null,
   "metadata": {},
   "outputs": [],
   "source": [
    "default_keys = {\n",
    {% for param in params -%}
    "   '{{ param.name }}': {{param.value or "_{}_".format(param.type)}}{{ "," if not loop.last }}\n",
    {%- endfor %}
    "}"
   ]
  },
  {
   "cell_type": "markdown",
   "metadata": {},
   "source": [
    "<div style=\"{{style.optional}}\">Run this cell in order to inspect the computation result with default parameters.\n",
    "Fore more information on running computations, see the <a href=\"https://docs.jcmwave.com/JCMsuite/html/PythonInterface/e73e5f9406241ef2aee767e4e2f620bc.html\">Python Command Reference</a>.\n",
    "</div>\n"
   ]
  },
  {
   "cell_type": "code",
   "execution_count": null,
   "metadata": {
    "scrolled": true
   },
   "outputs": [],
   "source": [
    "# The computation is started and a job id is returned.\n",
    "job_id = jcmwave.solve('{{project}}',keys=default_keys)\n",
    "\n",
    "# The command waits for the computation to finish and gathers the results.\n",
    "results, logs = jcmwave.daemon.wait(job_ids = [job_id])  \n",
    "\n",
    "# Since only one computation was started, the variable results is a list \n",
    "# with one item containing all computation results.\n",
    "result = results[0]\n",
    "\n",
    "# The variable result is a list of dictionaries \n",
    "# which contain data of the solution or the post processes.\n",
    "for idx,res in enumerate(result):\n",
    "    print('\\n==== Content of result[{}] ===='.format(idx))\n",
    "    pprint(res)\n",
    "jcmwave.view(result[0]['file'])"
   ]
  }
{% block task %}{% endblock %}
 ],
 "metadata": {
  "kernelspec": {
   "display_name": "Python 3",
   "language": "python",
   "name": "jcm-python-kernel"
  },
  "language_info": {
   "codemirror_mode": {
    "name": "ipython",
    "version": 3
   },
   "file_extension": ".py",
   "mimetype": "text/x-python",
   "name": "python",
   "nbconvert_exporter": "python",
   "pygments_lexer": "ipython3",
   "version": "3.6.5"
  }
 },
 "nbformat": 4,
 "nbformat_minor": 2 
}