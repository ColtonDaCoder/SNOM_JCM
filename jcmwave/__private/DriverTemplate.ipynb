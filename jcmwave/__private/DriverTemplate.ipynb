{% extends "BaseTemplate.ipynb" %}
{% block header %}
    "This jupyter notebook was generated using JCMcontrol.\n",
    "Please, evaluate the cells by clicking on them and pressing [Shift][Enter].\n",
{% endblock %}
