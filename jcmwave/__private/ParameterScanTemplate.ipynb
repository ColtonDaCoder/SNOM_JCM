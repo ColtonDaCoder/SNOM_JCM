{% extends "BaseTemplate.ipynb" %}

{% block import %}
    "import numpy.matlib as matlib\n",
    "import matplotlib.pyplot as plt\n",
    "import collections\n",
    "%matplotlib inline\n",
{% endblock %}

{% block task %}
,
  {
   "cell_type": "markdown",
   "metadata": {},
   "source": [
"<h1>Parameter Scan</h1>\n",
    "This section containes cells for running a multi dimensional parameter scan\n",
    "\n",
    "<h2>Scan Domain</h2>\n",
    "<div style=\"{{style.user_input}}\">First, the domain of the parameter scan is defined. By default the scan is performed over the first two parameters of the project. More parameters can be added to the scan domain.</div>"
   ]
  },
  {
   "cell_type": "code",
   "execution_count": null,
   "metadata": {},
   "outputs": [],
   "source": [
    "scan_domain = collections.OrderedDict()\n",
    {% for param in params if param.type in ['real','complex','integer']-%}
    "{% if loop.index > 2 -%}#{%- endif -%}
    {%- if param.type == 'integer' -%}
      scan_domain['{{ param.name }}'] = range(_lower_, _upper_, _steps_size_)
    {%- elif param.type in ['real','complex'] -%}
      scan_domain['{{ param.name }}'] = np.arange(_lower_, _upper_, _steps_size_)
    {%- endif -%}
    {{ "\\n" if not loop.last }}"{{ "," if not loop.last }}
    {%- endfor %}
   ]
  },
  {
   "cell_type": "markdown",
   "metadata": {},
   "source": [
    "<h2>Run Scan</h2>\n",
    "In this cell, the computation results are obtained and stored in a <code>resultbag</code> object."
   ]
  },
  {
   "cell_type": "code",
   "execution_count": null,
   "metadata": {
    "scrolled": true
   },
   "outputs": [],
   "source": [
    "# Resultbag for storing computation results\n",
    "resultbag = jcmwave.Resultbag('resultbag.db')\n",
    "\n",
    "# Definition of keyset\n",
    "scan = np.meshgrid(*scan_domain.values())\n",
    "keyset = matlib.tile({},scan[0].shape)\n",
    "for ii in np.ndindex(*keyset.shape):\n",
    "    keyset[ii] = default_keys.copy()\n",
    "    for jj,param in enumerate(scan_domain):\n",
    "        keyset[ii][param] = scan[jj][ii]\n",
    "    \n",
    "# Excecution of simulations\n",
    "job_ids = []\n",
    "for ii in np.ndindex(*keyset.shape):\n",
    "    keys = keyset[ii]\n",
    "    job_id = jcmwave.solve('{{project}}', keys = keys,\n",
    "         temporary = True,\n",
    "         resultbag = resultbag)\n",
    "    job_ids.append(job_id)\n",
    "\n",
    "jcmwave.daemon.wait(job_ids, resultbag = resultbag);"
   ]
  },
  {
   "cell_type": "markdown",
   "metadata": {},
   "source": [
    "<h2>Plot Results</h2>\n",
    "<div style=\"{{style.user_input}}\">In this cell, a density plot of the first two parameters of the domain is generated. For a scan of only one parameter, a 1D function plot is shown instead.</div>"
   ]
  },
  {
   "cell_type": "code",
   "execution_count": null,
   "metadata": {},
   "outputs": [],
   "source": [
    "from matplotlib import cm\n",
    "scan_values = np.zeros(keyset.shape)\n",
    "for ii in np.ndindex(*keyset.shape):\n",
    "    keys = keyset[ii]\n",
    "    result = resultbag.get_result(keys)\n",
    "    # Please, define the objective here. This may be the output of \n",
    "    # a post process or a function of several ouput values. E.g.,\n",
    "    # obj = 1e9*result[1]['ElectromagneticFieldEnergyFlux'][0][0].real\n",
    "    obj = _computed_value_\n",
    "    scan_values[ii] = obj\n",
    "\n",
    "param_names = list(scan_domain.keys())\n",
    "if len(param_names)>1:\n",
    "    contours = plt.contour(scan[0], scan[1], scan_values, 3, colors='black',origin='lower')\n",
    "    plt.clabel(contours, inline=True, fontsize=8)\n",
    "    plt.pcolormesh(scan[0],scan[1],scan_values,shading='gouraud')\n",
    "    plt.colorbar()\n",
    "    plt.xlabel(param_names[0])\n",
    "    plt.ylabel(param_names[1])\n",
    "else:\n",
    "    plt.plot(scan[0],scan_values)\n",
    "    plt.grid()\n",
    "    plt.xlabel(param_names[0])\n"
   ]
  }

{% endblock %}